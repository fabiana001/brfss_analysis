{
 "cells": [
  {
   "cell_type": "markdown",
   "metadata": {},
   "source": [
    "# Describe Dataset\n",
    "\n",
    "The datataset used for this test is extractracted from a publically-accessible data store, known as the BRFSS -- [Behavior Risk Factor Surveillance System](http://www.cdc.gov/brfss). The BRFSS is an ongoing telephone-based population health survey, conducted by the United States Centers for Disease Control and Pre-vention (CDC). The results of the risk factor survey, including state-based population estimates of diseases and risk factors, are published online annually by the CDC since 1984.\n",
    "\n",
    "For the test scope, we download the survey concerning the year 2015 (click [here](https://www.cdc.gov/brfss/annual_data/2015/files/LLCP2015XPT.zip) to download the dataset). It is composed by 441456 rows and 330 features. Features can be classified in 2 main categories: *i)* Features directly extracted during the interview process (e.g. AGE); *ii)* Calculated features, which could be intermediate variables (i.e. variables derived from a question response and used to calculate some other variable or risk factor) or variables used to classify respondents (most of them are identified by an underscore, e.g. _BMI4). Detailed infomation about calculated features can be found [here](https://www.cdc.gov/brfss/annual_data/2015/pdf/2015-calculated-variables-version4.pdf). \n",
    "Moreover, the questionnaire is comprised by core questions (i.e. questionnaire portion which must be asked by all states), optional modules (i.e. questions on various topics that each state may select\n",
    "and include in its questionnaire; this type of questions are asked to all eligible respondents.), and state-added questions (i.e. questions that could be added only by some state). For this reason the input dataset is very sparse. "
   ]
  },
  {
   "cell_type": "code",
   "execution_count": 1,
   "metadata": {
    "collapsed": true
   },
   "outputs": [],
   "source": [
    "#used libraries\n",
    "import pandas as pd\n",
    "import numpy as np\n",
    "%matplotlib inline\n",
    "import matplotlib\n",
    "import matplotlib.pyplot as plt"
   ]
  },
  {
   "cell_type": "code",
   "execution_count": 2,
   "metadata": {
    "collapsed": false
   },
   "outputs": [],
   "source": [
    "df = pd.read_sas('dataset.xpt')"
   ]
  },
  {
   "cell_type": "code",
   "execution_count": 3,
   "metadata": {
    "collapsed": false
   },
   "outputs": [
    {
     "name": "stdout",
     "output_type": "stream",
     "text": [
      "Dataset dimension (NumRows, NumFeatures):  (441456, 330)\n"
     ]
    }
   ],
   "source": [
    "print(\"Dataset dimension (NumRows, NumFeatures): \", df.shape)"
   ]
  },
  {
   "cell_type": "markdown",
   "metadata": {},
   "source": [
    "Before to describe the prediction goal, we would like to explore the dataset, doing a simple statistical analyses on all available features. We consider all features as categorical. The ratio of this choice is due to large number of variables involved and by the fact that most questions (e.g variable *HHADULT*: \"How many members of your household, including yourself, are 18 years of age or older?\") contain some extra value which describe that the user could refuse to response (e.g. value 99) or does not know the response (e.g value 77). Therefore, for the test task we convert all variables as categorical rather than select a few of them and spend time to filter useless information with respect to the prediction task.  "
   ]
  },
  {
   "cell_type": "code",
   "execution_count": 4,
   "metadata": {
    "collapsed": false
   },
   "outputs": [],
   "source": [
    "df_cat = pd.DataFrame()\n",
    "for i in df:\n",
    "    df_cat[i] = df[i].astype('category')"
   ]
  },
  {
   "cell_type": "markdown",
   "metadata": {},
   "source": [
    "In the following we show some simple statistic about each variable:\n",
    "* Count: Describes the number of not null values;\n",
    "* Unique: Describes the number of unique values;\n",
    "* top: Describes the mode (in the case of multiple mode only one is shown)\n",
    "* freq: Describe the frequency of the returned *top* value"
   ]
  },
  {
   "cell_type": "code",
   "execution_count": 5,
   "metadata": {
    "collapsed": false,
    "scrolled": true
   },
   "outputs": [
    {
     "data": {
      "text/html": [
       "<div>\n",
       "<table border=\"1\" class=\"dataframe\">\n",
       "  <thead>\n",
       "    <tr style=\"text-align: right;\">\n",
       "      <th></th>\n",
       "      <th>_STATE</th>\n",
       "      <th>FMONTH</th>\n",
       "      <th>IDATE</th>\n",
       "      <th>IMONTH</th>\n",
       "      <th>IDAY</th>\n",
       "      <th>IYEAR</th>\n",
       "      <th>DISPCODE</th>\n",
       "      <th>SEQNO</th>\n",
       "      <th>_PSU</th>\n",
       "      <th>CTELENUM</th>\n",
       "      <th>...</th>\n",
       "      <th>_PAREC1</th>\n",
       "      <th>_PASTAE1</th>\n",
       "      <th>_LMTACT1</th>\n",
       "      <th>_LMTWRK1</th>\n",
       "      <th>_LMTSCL1</th>\n",
       "      <th>_RFSEAT2</th>\n",
       "      <th>_RFSEAT3</th>\n",
       "      <th>_FLSHOT6</th>\n",
       "      <th>_PNEUMO2</th>\n",
       "      <th>_AIDTST3</th>\n",
       "    </tr>\n",
       "  </thead>\n",
       "  <tbody>\n",
       "    <tr>\n",
       "      <th>count</th>\n",
       "      <td>441456.0</td>\n",
       "      <td>441456.0</td>\n",
       "      <td>441456</td>\n",
       "      <td>441456</td>\n",
       "      <td>441456</td>\n",
       "      <td>441456</td>\n",
       "      <td>441456.0</td>\n",
       "      <td>4.414560e+05</td>\n",
       "      <td>4.414560e+05</td>\n",
       "      <td>254645.0</td>\n",
       "      <td>...</td>\n",
       "      <td>441456.0</td>\n",
       "      <td>441456.0</td>\n",
       "      <td>438657.0</td>\n",
       "      <td>438657.0</td>\n",
       "      <td>438657.0</td>\n",
       "      <td>441456.0</td>\n",
       "      <td>441456.0</td>\n",
       "      <td>157954.0</td>\n",
       "      <td>157954.0</td>\n",
       "      <td>398069.0</td>\n",
       "    </tr>\n",
       "    <tr>\n",
       "      <th>unique</th>\n",
       "      <td>53.0</td>\n",
       "      <td>12.0</td>\n",
       "      <td>415</td>\n",
       "      <td>12</td>\n",
       "      <td>31</td>\n",
       "      <td>2</td>\n",
       "      <td>2.0</td>\n",
       "      <td>2.323600e+04</td>\n",
       "      <td>2.323600e+04</td>\n",
       "      <td>1.0</td>\n",
       "      <td>...</td>\n",
       "      <td>5.0</td>\n",
       "      <td>3.0</td>\n",
       "      <td>4.0</td>\n",
       "      <td>4.0</td>\n",
       "      <td>5.0</td>\n",
       "      <td>3.0</td>\n",
       "      <td>3.0</td>\n",
       "      <td>3.0</td>\n",
       "      <td>3.0</td>\n",
       "      <td>3.0</td>\n",
       "    </tr>\n",
       "    <tr>\n",
       "      <th>top</th>\n",
       "      <td>20.0</td>\n",
       "      <td>1.0</td>\n",
       "      <td>b'06022015'</td>\n",
       "      <td>b'03'</td>\n",
       "      <td>b'09'</td>\n",
       "      <td>b'2015'</td>\n",
       "      <td>1100.0</td>\n",
       "      <td>2.015000e+09</td>\n",
       "      <td>2.015000e+09</td>\n",
       "      <td>1.0</td>\n",
       "      <td>...</td>\n",
       "      <td>4.0</td>\n",
       "      <td>2.0</td>\n",
       "      <td>3.0</td>\n",
       "      <td>3.0</td>\n",
       "      <td>4.0</td>\n",
       "      <td>1.0</td>\n",
       "      <td>1.0</td>\n",
       "      <td>1.0</td>\n",
       "      <td>1.0</td>\n",
       "      <td>2.0</td>\n",
       "    </tr>\n",
       "    <tr>\n",
       "      <th>freq</th>\n",
       "      <td>23236.0</td>\n",
       "      <td>44300.0</td>\n",
       "      <td>2148</td>\n",
       "      <td>42406</td>\n",
       "      <td>18669</td>\n",
       "      <td>430541</td>\n",
       "      <td>375059.0</td>\n",
       "      <td>5.300000e+01</td>\n",
       "      <td>5.300000e+01</td>\n",
       "      <td>254645.0</td>\n",
       "      <td>...</td>\n",
       "      <td>150188.0</td>\n",
       "      <td>309251.0</td>\n",
       "      <td>290621.0</td>\n",
       "      <td>290621.0</td>\n",
       "      <td>290621.0</td>\n",
       "      <td>376993.0</td>\n",
       "      <td>349444.0</td>\n",
       "      <td>86683.0</td>\n",
       "      <td>98752.0</td>\n",
       "      <td>269733.0</td>\n",
       "    </tr>\n",
       "  </tbody>\n",
       "</table>\n",
       "<p>4 rows × 330 columns</p>\n",
       "</div>"
      ],
      "text/plain": [
       "          _STATE    FMONTH        IDATE  IMONTH    IDAY    IYEAR  DISPCODE  \\\n",
       "count   441456.0  441456.0       441456  441456  441456   441456  441456.0   \n",
       "unique      53.0      12.0          415      12      31        2       2.0   \n",
       "top         20.0       1.0  b'06022015'   b'03'   b'09'  b'2015'    1100.0   \n",
       "freq     23236.0   44300.0         2148   42406   18669   430541  375059.0   \n",
       "\n",
       "               SEQNO          _PSU  CTELENUM    ...      _PAREC1  _PASTAE1  \\\n",
       "count   4.414560e+05  4.414560e+05  254645.0    ...     441456.0  441456.0   \n",
       "unique  2.323600e+04  2.323600e+04       1.0    ...          5.0       3.0   \n",
       "top     2.015000e+09  2.015000e+09       1.0    ...          4.0       2.0   \n",
       "freq    5.300000e+01  5.300000e+01  254645.0    ...     150188.0  309251.0   \n",
       "\n",
       "        _LMTACT1  _LMTWRK1  _LMTSCL1  _RFSEAT2  _RFSEAT3  _FLSHOT6  _PNEUMO2  \\\n",
       "count   438657.0  438657.0  438657.0  441456.0  441456.0  157954.0  157954.0   \n",
       "unique       4.0       4.0       5.0       3.0       3.0       3.0       3.0   \n",
       "top          3.0       3.0       4.0       1.0       1.0       1.0       1.0   \n",
       "freq    290621.0  290621.0  290621.0  376993.0  349444.0   86683.0   98752.0   \n",
       "\n",
       "        _AIDTST3  \n",
       "count   398069.0  \n",
       "unique       3.0  \n",
       "top          2.0  \n",
       "freq    269733.0  \n",
       "\n",
       "[4 rows x 330 columns]"
      ]
     },
     "execution_count": 5,
     "metadata": {},
     "output_type": "execute_result"
    }
   ],
   "source": [
    "df_cat.describe()"
   ]
  },
  {
   "cell_type": "markdown",
   "metadata": {},
   "source": [
    "# Prediction Task\n",
    "As said before, the input dataset contains questions about a wide range of socio-demographic and health information ( e.g., age, gender, race, household income, employment status, marital status, education, depression, hiv, etc.). We choose the **Diabetes Prediction Task** and we set the variable *DIABETE3* as the dependent variable. In particular, we filter from the original dataset all the interviews (i.e. dataset rows) that have been completed and are related to people having or not diabete (i.e. we remove interviews related to people which had diabete during pregnancy or pre-diabete), and we manually select a subset of the features as independent variables.\n",
    "\n",
    "Therefore goal of this task is to learn a classifier which is able to discriminate people with diabete from \n",
    "healthy people, and learn what are the most related factors to the target variable."
   ]
  },
  {
   "cell_type": "markdown",
   "metadata": {},
   "source": [
    "## Explore the Dataset\n",
    "We consider only a subset of features, that is those we consider most significative or which do not require further cleaning operations (e.g. discretization of continuous variables such as NUMADULT).\n",
    "The list *selected_features* contains the subset of features that will be used and the set of values to clean (e.g. [7,9, \" \"]). In particular, for the selected feature the value 7,9 and \" \"(blank) codify respectively the responses \"Don't know\", \"Refused\", \"Missing\".\n",
    "\n",
    "Therefore from the input dataset we extract a dataset composed by 441456 rows and 77 columns."
   ]
  },
  {
   "cell_type": "code",
   "execution_count": 6,
   "metadata": {
    "collapsed": true
   },
   "outputs": [],
   "source": [
    "selected_features = [\n",
    "    (\"_STATE\",[]),\n",
    "    (\"GENHLTH\",[7,9,\" \"]),\n",
    "    (\"HLTHPLN1\",[7,9]),\n",
    "    (\"CHECKUP1\",[7,8,9,\" \"]),\n",
    "    (\"BPHIGH4\",[7,9,\" \"]),\n",
    "    (\"BPMEDS\",[7,9,\" \"]),\n",
    "    (\"TOLDHI2\",[7,9,\" \"]),\n",
    "    (\"CVDINFR4\",[7,9]),\n",
    "    (\"CVDCRHD4\",[7,9,\" \"]),\n",
    "    (\"CVDSTRK3\",[7,9]),\n",
    "    (\"ASTHMA3\", [7,9]),\n",
    "    (\"CHCSCNCR\",[7,9,\" \"]),\n",
    "    (\"CHCOCNCR\",[7,9]),\n",
    "    (\"CHCCOPD1\",[7,9]),\n",
    "    (\"HAVARTH3\",[7,9, \" \"]),\n",
    "    (\"ADDEPEV2\",[7,9]),\n",
    "    (\"CHCKIDNY\",[7,9]),\n",
    "    (\"SEX\",[]),\n",
    "    (\"MARITAL\",[9]),\n",
    "    (\"RENTHOM1\",[7,9]),\n",
    "    (\"VETERAN3\",[7,9,\" \"]),\n",
    "    (\"EMPLOY1\",[9]),\n",
    "    (\"INCOME2\",[77,99,\" \"]),\n",
    "    (\"QLACTLM2\",[7,9, \" \"]),\n",
    "    (\"USEEQUIP\",[7,9,\" \"]),\n",
    "    (\"BLIND\",[7,9, \" \"]),\n",
    "    (\"DECIDE\",[7,9,\" \"]),    \n",
    "    (\"DIFFWALK\",[7,9,\" \"]),\n",
    "    (\"DIFFDRES\",[7,9, \" \"]),\n",
    "    (\"DIFFALON\",[7,9, \" \"]),\n",
    "    (\"SMOKE100\",[7,9, \" \"]),\n",
    "    (\"EXERANY2\",[7,9,\" \"]),\n",
    "    (\"LMTJOIN3\",[7,9,10]),\n",
    "    (\"ARTHDIS2\",[7,9,\" \"]),\n",
    "    (\"FLUSHOT6\",[7,9,\" \"]),    \n",
    "    (\"PNEUVAC3\",[7,9, \" \"]),\n",
    "    (\"HIVTST6\",[7,9, \" \"]),\n",
    "    (\"EYEEXAM\",[9,\" \"]),\n",
    "    (\"WTCHSALT\",[7,9,\" \"]),\n",
    "    (\"DRADVISE\",[7,9, \" \"]),\n",
    "    (\"SCNTMNY1\",[7,8,9,\" \"]),\n",
    "    (\"SCNTMEL1\",[7,8,9,\" \"]),\n",
    "    (\"SCNTPAID\",[7,8,9,\" \"]),    \n",
    "    (\"SCNTLPAD\",[7,8,9,\" \"]),\n",
    "    (\"LSATISFY\",[7,9,\" \"]),\n",
    "    (\"MISTMNT\",[7,9,\" \"]),\n",
    "    (\"_RFHLTH\",[]),\n",
    "    (\"_HCVU651\",[]),\n",
    "    (\"_RFHYPE5\",[]),\n",
    "    (\"_CHOLCHK\",[]),\n",
    "    (\"_RFCHOL\",[]),    \n",
    "    (\"_MICHD\",[]),\n",
    "    (\"_LTASTH1\",[]),\n",
    "    (\"_CASTHM1\",[]),\n",
    "    (\"_DRDXAR1\",[]),\n",
    "    (\"_RACE\",[]),\n",
    "    (\"_AGEG5YR\",[]),\n",
    "    (\"_AGE65YR\",[]),\n",
    "    (\"_BMI5CAT\",[]),\n",
    "    (\"_EDUCAG\",[]),\n",
    "    (\"_INCOMG\",[]),\n",
    "    (\"_SMOKER3\",[]),\n",
    "    (\"_RFSMOK3\",[]),\n",
    "    (\"DRNKANY5\",[]),\n",
    "    (\"DROCDY3_\",[]),\n",
    "    (\"_RFDRHV5\",[]),\n",
    "    (\"_FRTLT1\",[]),\n",
    "    (\"_VEGLT1\",[]),\n",
    "    (\"_TOTINDA\",[]),\n",
    "    (\"_PACAT1\",[]),\n",
    "    (\"_PASTRNG\",[]),\n",
    "    (\"_PAREC1\",[]),\n",
    "    (\"_LMTACT1\",[]),\n",
    "    (\"_LMTWRK1\",[]),\n",
    "    (\"_LMTSCL1\",[]),\n",
    "    (\"DIABETE3\",[]),\n",
    "    (\"DISPCODE\",[])\n",
    "]"
   ]
  },
  {
   "cell_type": "code",
   "execution_count": 7,
   "metadata": {
    "collapsed": true
   },
   "outputs": [],
   "source": [
    "# select the subset of the features for the analysis\n",
    "column_names = {i for i,_ in selected_features}\n",
    "df_selected_features = df.select(lambda c: c in column_names, axis=1)"
   ]
  },
  {
   "cell_type": "code",
   "execution_count": 8,
   "metadata": {
    "collapsed": false
   },
   "outputs": [
    {
     "name": "stdout",
     "output_type": "stream",
     "text": [
      "dataset dimension after attribute selection process (441456, 77)\n"
     ]
    }
   ],
   "source": [
    "print(\"dataset dimension after attribute selection process\",df_selected_features.shape)"
   ]
  },
  {
   "cell_type": "code",
   "execution_count": 9,
   "metadata": {
    "collapsed": false
   },
   "outputs": [],
   "source": [
    "#3 clean dataset\n",
    "df_with_not_answered = pd.DataFrame()\n",
    "for column, to_replace in selected_features:\n",
    "    if len(to_replace) > 0:\n",
    "        df_with_not_answered[column] = df_selected_features[column].replace(to_replace=to_replace,value=np.NaN)\n",
    "    else:\n",
    "        df_with_not_answered[column] = df_selected_features[column]"
   ]
  },
  {
   "cell_type": "markdown",
   "metadata": {},
   "source": [
    "After a first feature selection and cleaning process we apply the following rules:\n",
    "\n",
    "1. Selecting only rows such that *DIABETE3* is equal to 1 (YES) or 3 (NO);\n",
    "2. Selecting only rows such that *DISPCODE* is equal to 1100 (i.e. completed interviews);\n",
    "3. Removing all columns having only null values.\n",
    "\n",
    "We obtain a sub-dataset composed by 364569 rows and 77 columns. This dataset is extracted how follows:"
   ]
  },
  {
   "cell_type": "code",
   "execution_count": 10,
   "metadata": {
    "collapsed": false
   },
   "outputs": [
    {
     "name": "stdout",
     "output_type": "stream",
     "text": [
      "Number of removed rows: 12096\n"
     ]
    }
   ],
   "source": [
    "#1\n",
    "df_diabete = df_with_not_answered[df.DIABETE3.isin([1.0, 3.0])]\n",
    "rows = len(df)-len(df_diabete)\n",
    "print(\"Number of removed rows:\", rows)"
   ]
  },
  {
   "cell_type": "code",
   "execution_count": 11,
   "metadata": {
    "collapsed": false
   },
   "outputs": [
    {
     "name": "stdout",
     "output_type": "stream",
     "text": [
      "Number of removed rows: 64791\n"
     ]
    }
   ],
   "source": [
    "#2\n",
    "df_completed_interview = df_diabete[df_diabete.DISPCODE == 1100.0]\n",
    "rows2 = len(df_diabete) - len(df_completed_interview)\n",
    "print(\"Number of removed rows:\", rows2)"
   ]
  },
  {
   "cell_type": "code",
   "execution_count": 12,
   "metadata": {
    "collapsed": false
   },
   "outputs": [
    {
     "name": "stdout",
     "output_type": "stream",
     "text": [
      "Dataset dimension after filtering step (364569, 77)\n"
     ]
    }
   ],
   "source": [
    "print(\"Dataset dimension after filtering step\", df_completed_interview.shape)"
   ]
  },
  {
   "cell_type": "markdown",
   "metadata": {},
   "source": [
    "### Data Cleaning\n",
    "In this step we eventually remove all empty columns and convert the input dataset from numeric to categorical."
   ]
  },
  {
   "cell_type": "code",
   "execution_count": 13,
   "metadata": {
    "collapsed": false
   },
   "outputs": [
    {
     "name": "stdout",
     "output_type": "stream",
     "text": [
      "Number of removed columns:  0\n",
      "Dataset dimension after data cleaning step (NumRows, NumFeatures):  (364569, 77)\n"
     ]
    }
   ],
   "source": [
    "#3\n",
    "df_without_columns_allNaN = df_completed_interview.dropna(axis=1, how='all')\n",
    "cols = len(df_completed_interview.columns) - len(df_without_columns_allNaN.columns)\n",
    "print(\"Number of removed columns: \", cols)\n",
    "print(\"Dataset dimension after data cleaning step (NumRows, NumFeatures): \", df_without_columns_allNaN.shape)"
   ]
  },
  {
   "cell_type": "code",
   "execution_count": 14,
   "metadata": {
    "collapsed": true
   },
   "outputs": [],
   "source": [
    "df_without_columns_allNaN = df_without_columns_allNaN.apply(lambda c: c.astype('category'))"
   ]
  },
  {
   "cell_type": "code",
   "execution_count": 15,
   "metadata": {
    "collapsed": false,
    "scrolled": true
   },
   "outputs": [
    {
     "data": {
      "text/html": [
       "<div>\n",
       "<table border=\"1\" class=\"dataframe\">\n",
       "  <thead>\n",
       "    <tr style=\"text-align: right;\">\n",
       "      <th></th>\n",
       "      <th>_STATE</th>\n",
       "      <th>GENHLTH</th>\n",
       "      <th>HLTHPLN1</th>\n",
       "      <th>CHECKUP1</th>\n",
       "      <th>BPHIGH4</th>\n",
       "      <th>BPMEDS</th>\n",
       "      <th>TOLDHI2</th>\n",
       "      <th>CVDINFR4</th>\n",
       "      <th>CVDCRHD4</th>\n",
       "      <th>CVDSTRK3</th>\n",
       "      <th>...</th>\n",
       "      <th>_VEGLT1</th>\n",
       "      <th>_TOTINDA</th>\n",
       "      <th>_PACAT1</th>\n",
       "      <th>_PASTRNG</th>\n",
       "      <th>_PAREC1</th>\n",
       "      <th>_LMTACT1</th>\n",
       "      <th>_LMTWRK1</th>\n",
       "      <th>_LMTSCL1</th>\n",
       "      <th>DIABETE3</th>\n",
       "      <th>DISPCODE</th>\n",
       "    </tr>\n",
       "  </thead>\n",
       "  <tbody>\n",
       "    <tr>\n",
       "      <th>count</th>\n",
       "      <td>364569.0</td>\n",
       "      <td>363620.0</td>\n",
       "      <td>363272.0</td>\n",
       "      <td>356836.0</td>\n",
       "      <td>363606.0</td>\n",
       "      <td>149258.0</td>\n",
       "      <td>316174.0</td>\n",
       "      <td>362997.0</td>\n",
       "      <td>361596.0</td>\n",
       "      <td>363641.0</td>\n",
       "      <td>...</td>\n",
       "      <td>364569.0</td>\n",
       "      <td>364569.0</td>\n",
       "      <td>364569.0</td>\n",
       "      <td>364569.0</td>\n",
       "      <td>364569.0</td>\n",
       "      <td>362420.0</td>\n",
       "      <td>362420.0</td>\n",
       "      <td>362420.0</td>\n",
       "      <td>364569.0</td>\n",
       "      <td>364569.0</td>\n",
       "    </tr>\n",
       "    <tr>\n",
       "      <th>unique</th>\n",
       "      <td>53.0</td>\n",
       "      <td>5.0</td>\n",
       "      <td>2.0</td>\n",
       "      <td>4.0</td>\n",
       "      <td>4.0</td>\n",
       "      <td>2.0</td>\n",
       "      <td>2.0</td>\n",
       "      <td>2.0</td>\n",
       "      <td>2.0</td>\n",
       "      <td>2.0</td>\n",
       "      <td>...</td>\n",
       "      <td>3.0</td>\n",
       "      <td>3.0</td>\n",
       "      <td>5.0</td>\n",
       "      <td>3.0</td>\n",
       "      <td>5.0</td>\n",
       "      <td>4.0</td>\n",
       "      <td>4.0</td>\n",
       "      <td>5.0</td>\n",
       "      <td>2.0</td>\n",
       "      <td>1.0</td>\n",
       "    </tr>\n",
       "    <tr>\n",
       "      <th>top</th>\n",
       "      <td>20.0</td>\n",
       "      <td>2.0</td>\n",
       "      <td>1.0</td>\n",
       "      <td>1.0</td>\n",
       "      <td>3.0</td>\n",
       "      <td>1.0</td>\n",
       "      <td>2.0</td>\n",
       "      <td>2.0</td>\n",
       "      <td>2.0</td>\n",
       "      <td>2.0</td>\n",
       "      <td>...</td>\n",
       "      <td>1.0</td>\n",
       "      <td>1.0</td>\n",
       "      <td>1.0</td>\n",
       "      <td>2.0</td>\n",
       "      <td>4.0</td>\n",
       "      <td>3.0</td>\n",
       "      <td>3.0</td>\n",
       "      <td>4.0</td>\n",
       "      <td>3.0</td>\n",
       "      <td>1100.0</td>\n",
       "    </tr>\n",
       "    <tr>\n",
       "      <th>freq</th>\n",
       "      <td>18923.0</td>\n",
       "      <td>121977.0</td>\n",
       "      <td>338684.0</td>\n",
       "      <td>269815.0</td>\n",
       "      <td>208061.0</td>\n",
       "      <td>125600.0</td>\n",
       "      <td>180718.0</td>\n",
       "      <td>341705.0</td>\n",
       "      <td>340153.0</td>\n",
       "      <td>348552.0</td>\n",
       "      <td>...</td>\n",
       "      <td>278687.0</td>\n",
       "      <td>266653.0</td>\n",
       "      <td>119855.0</td>\n",
       "      <td>262306.0</td>\n",
       "      <td>136310.0</td>\n",
       "      <td>237303.0</td>\n",
       "      <td>237303.0</td>\n",
       "      <td>237303.0</td>\n",
       "      <td>314851.0</td>\n",
       "      <td>364569.0</td>\n",
       "    </tr>\n",
       "  </tbody>\n",
       "</table>\n",
       "<p>4 rows × 77 columns</p>\n",
       "</div>"
      ],
      "text/plain": [
       "          _STATE   GENHLTH  HLTHPLN1  CHECKUP1   BPHIGH4    BPMEDS   TOLDHI2  \\\n",
       "count   364569.0  363620.0  363272.0  356836.0  363606.0  149258.0  316174.0   \n",
       "unique      53.0       5.0       2.0       4.0       4.0       2.0       2.0   \n",
       "top         20.0       2.0       1.0       1.0       3.0       1.0       2.0   \n",
       "freq     18923.0  121977.0  338684.0  269815.0  208061.0  125600.0  180718.0   \n",
       "\n",
       "        CVDINFR4  CVDCRHD4  CVDSTRK3    ...      _VEGLT1  _TOTINDA   _PACAT1  \\\n",
       "count   362997.0  361596.0  363641.0    ...     364569.0  364569.0  364569.0   \n",
       "unique       2.0       2.0       2.0    ...          3.0       3.0       5.0   \n",
       "top          2.0       2.0       2.0    ...          1.0       1.0       1.0   \n",
       "freq    341705.0  340153.0  348552.0    ...     278687.0  266653.0  119855.0   \n",
       "\n",
       "        _PASTRNG   _PAREC1  _LMTACT1  _LMTWRK1  _LMTSCL1  DIABETE3  DISPCODE  \n",
       "count   364569.0  364569.0  362420.0  362420.0  362420.0  364569.0  364569.0  \n",
       "unique       3.0       5.0       4.0       4.0       5.0       2.0       1.0  \n",
       "top          2.0       4.0       3.0       3.0       4.0       3.0    1100.0  \n",
       "freq    262306.0  136310.0  237303.0  237303.0  237303.0  314851.0  364569.0  \n",
       "\n",
       "[4 rows x 77 columns]"
      ]
     },
     "execution_count": 15,
     "metadata": {},
     "output_type": "execute_result"
    }
   ],
   "source": [
    "df_without_columns_allNaN.describe()"
   ]
  },
  {
   "cell_type": "markdown",
   "metadata": {},
   "source": [
    "### Analysis of the target variable\n",
    "In the following we show the distribution of the target variable (i.e. dependent variable). As shown by the second histogram, the filtered dataset is unbalanced. In fact, the number of interviews having class 3 (i.e. NO) represent about the 70% of whole dataset. \n",
    "\n",
    "Datasets with unbalanced class distributions are quite common in many real applications. Many machine learning solutions have tryed to manage with this datasets' feature. In fact, due this unequal class distribution, the\n",
    "performance of the existing classifiers tends to be biased towards the majority class. The reasons for poor performance of the existing classification algorithms on imbalanced data sets\n",
    "are: *1)* They are accuracy driven i.e., their goal is to minimize the overall error to which the minority class contributes very little. *2)* They assume that there is equal distribution of data\n",
    "for all the classes. *3)* They also assume that the errors coming\n",
    "from different classes have the same cost (i.e. for our prediction task the false negatives, i.e. people that suffer form diabetes but are labaled as *healthy*, have the same cost of false positive, i.e. people that do not suffer from diabetes but are labeled as positive). \n",
    "\n",
    "To handle the problem of unbalanced data, sampling approaches are applied on the data to change the class distribution of data and make it balanced. The Sampling approaches are mainly divided into two categories: Undersampling and\n",
    "Oversampling. In particular, [SMOTE](http://jair.org/media/953/live-953-2037-jair.pdf) represents one of most important Machine Learning algorithms for oversampling. Although it is considerated one of most important state of art algorithm to reduce the problem of unbalanced classes, there is only [one python implementation](https://github.com/scikit-learn-contrib/imbalanced-learn) of that algorithm which is able to handle numerical attributes. This makes this algorithm useless for our task. For this reason we have implemented a java project which which use the Weka implementation of SMOTE to oversampling a dataset of categorical features.\n",
    "\n",
    "Since the process of data balancing is time and memory consuming, in the following we will execute the pre-processing task only on the unbalanced dataset. However, it should be interesting how the performances of the learned classifiers change varying the distribution of the target variable."
   ]
  },
  {
   "cell_type": "code",
   "execution_count": 16,
   "metadata": {
    "collapsed": false
   },
   "outputs": [
    {
     "name": "stdout",
     "output_type": "stream",
     "text": [
      "Distribution of DIABETE3 in the original dataset\n"
     ]
    },
    {
     "data": {
      "image/png": "[encoded data removed]",
      "text/plain": [
       "<matplotlib.figure.Figure at 0x11a3d0588>"
      ]
     },
     "metadata": {},
     "output_type": "display_data"
    }
   ],
   "source": [
    "s_diabete = df.DIABETE3.astype('category')\n",
    "diabete_counts = s_diabete.value_counts()\n",
    "diabete_counts.plot.barh()\n",
    "print(\"Distribution of DIABETE3 in the original dataset\")"
   ]
  },
  {
   "cell_type": "code",
   "execution_count": 17,
   "metadata": {
    "collapsed": false
   },
   "outputs": [
    {
     "name": "stdout",
     "output_type": "stream",
     "text": [
      "Distribution of DIABETE3 in the filtered dataset\n"
     ]
    },
    {
     "data": {
      "image/png": "[encoded data removed]",
      "text/plain": [
       "<matplotlib.figure.Figure at 0x12c300da0>"
      ]
     },
     "metadata": {},
     "output_type": "display_data"
    }
   ],
   "source": [
    "s2_diabete = df_without_columns_allNaN.DIABETE3.astype('category')\n",
    "s2_diabete.value_counts().plot.barh()\n",
    "print(\"Distribution of DIABETE3 in the filtered dataset\")"
   ]
  },
  {
   "cell_type": "code",
   "execution_count": 18,
   "metadata": {
    "collapsed": false
   },
   "outputs": [
    {
     "name": "stdout",
     "output_type": "stream",
     "text": [
      "Number of interviews per class\n",
      "3.0    0.713210\n",
      "1.0    0.112623\n",
      "Name: DIABETE3, dtype: float64\n"
     ]
    }
   ],
   "source": [
    "percentages = s2_diabete.value_counts().map(lambda x: x / df.shape[0])\n",
    "print(\"Number of interviews per class\")\n",
    "print(percentages)"
   ]
  },
  {
   "cell_type": "markdown",
   "metadata": {},
   "source": [
    "We store the filtered dataset for further analysis:"
   ]
  },
  {
   "cell_type": "code",
   "execution_count": 19,
   "metadata": {
    "collapsed": true
   },
   "outputs": [],
   "source": [
    "df_without_columns_allNaN.to_pickle(\"./initialDataset.pkl\")"
   ]
  }
 ],
 "metadata": {
  "anaconda-cloud": {},
  "kernelspec": {
   "display_name": "Python [conda env:deeplearning]",
   "language": "python",
   "name": "conda-env-deeplearning-py"
  },
  "language_info": {
   "codemirror_mode": {
    "name": "ipython",
    "version": 3
   },
   "file_extension": ".py",
   "mimetype": "text/x-python",
   "name": "python",
   "nbconvert_exporter": "python",
   "pygments_lexer": "ipython3",
   "version": "3.5.2"
  }
 },
 "nbformat": 4,
 "nbformat_minor": 1
}
