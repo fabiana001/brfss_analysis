{
 "cells": [
  {
   "cell_type": "markdown",
   "metadata": {},
   "source": [
    "# Analysis on the unbalanced dataset"
   ]
  },
  {
   "cell_type": "code",
   "execution_count": 1,
   "metadata": {
    "collapsed": true
   },
   "outputs": [],
   "source": [
    "%matplotlib inline\n",
    "import matplotlib\n",
    "import matplotlib.pyplot as plt\n",
    "import pandas as pd\n",
    "import numpy as np\n",
    "import scipy.stats as stats\n",
    "from scipy.stats import chisquare"
   ]
  },
  {
   "cell_type": "code",
   "execution_count": 2,
   "metadata": {
    "collapsed": true
   },
   "outputs": [],
   "source": [
    "def num_missing(x):\n",
    "    return (x.isnull().sum() / x.size)\n",
    "\n",
    "def freq_missing_value(x, value):\n",
    "    freq = (x.isnull().sum() / x.size)\n",
    "    return freq < value"
   ]
  },
  {
   "cell_type": "code",
   "execution_count": 3,
   "metadata": {
    "collapsed": false
   },
   "outputs": [],
   "source": [
    "#dataset loading\n",
    "df = np.load('initialDataset.pkl')"
   ]
  },
  {
   "cell_type": "markdown",
   "metadata": {},
   "source": [
    "The unbalanced dataset is composed by 314851 completed interviews belonging to the class 3.0 (i.e. NO Diabete) and 49718 completed interviews belonging to the class 1.0 (i.e. YES Diabete) "
   ]
  },
  {
   "cell_type": "code",
   "execution_count": 4,
   "metadata": {
    "collapsed": false
   },
   "outputs": [
    {
     "name": "stdout",
     "output_type": "stream",
     "text": [
      "Dataset distribution respect the target variable\n",
      "3.0    314851\n",
      "1.0     49718\n",
      "Name: DIABETE3, dtype: int64\n"
     ]
    },
    {
     "data": {
      "text/plain": [
       "<matplotlib.axes._subplots.AxesSubplot at 0x11025efd0>"
      ]
     },
     "execution_count": 4,
     "metadata": {},
     "output_type": "execute_result"
    },
    {
     "data": {
      "image/png": "[encoded data removed]",
      "text/plain": [
       "<matplotlib.figure.Figure at 0x11023cbe0>"
      ]
     },
     "metadata": {},
     "output_type": "display_data"
    }
   ],
   "source": [
    "print(\"Dataset distribution respect the target variable\")\n",
    "print(df.DIABETE3.value_counts())\n",
    "df.DIABETE3.value_counts().plot.barh()"
   ]
  },
  {
   "cell_type": "markdown",
   "metadata": {},
   "source": [
    "## Analysis missing values\n",
    "In the following we show the most k=10 sparse features and their number of missing values. We remove all features having a percentage of missing values greather than 80% "
   ]
  },
  {
   "cell_type": "code",
   "execution_count": 5,
   "metadata": {
    "collapsed": false
   },
   "outputs": [
    {
     "name": "stdout",
     "output_type": "stream",
     "text": [
      "FEATURE    %_MISSING\n"
     ]
    },
    {
     "data": {
      "text/plain": [
       "LSATISFY    0.947807\n",
       "MISTMNT     0.946427\n",
       "SCNTLPAD    0.934728\n",
       "EYEEXAM     0.928565\n",
       "SCNTPAID    0.909803\n",
       "DRADVISE    0.892465\n",
       "WTCHSALT    0.892413\n",
       "SCNTMNY1    0.821748\n",
       "SCNTMEL1    0.809084\n",
       "ARTHDIS2    0.666088\n",
       "dtype: float64"
      ]
     },
     "execution_count": 5,
     "metadata": {},
     "output_type": "execute_result"
    }
   ],
   "source": [
    "frequency_missing_data = df.apply(num_missing, axis=0)\n",
    "print(\"FEATURE    %_MISSING\")\n",
    "frequency_missing_data.sort_values(ascending=False)[0:10]"
   ]
  },
  {
   "cell_type": "code",
   "execution_count": 6,
   "metadata": {
    "collapsed": false,
    "scrolled": true
   },
   "outputs": [
    {
     "name": "stdout",
     "output_type": "stream",
     "text": [
      "Number of removed columns  9\n"
     ]
    }
   ],
   "source": [
    "df_filtered = df.select(lambda c: freq_missing_value(df[c],0.8), axis=1)\n",
    "cols = len(df.columns) - len(df_filtered.columns)\n",
    "print(\"Number of removed columns \", cols)"
   ]
  },
  {
   "cell_type": "code",
   "execution_count": 7,
   "metadata": {
    "collapsed": false
   },
   "outputs": [],
   "source": [
    "final_features = df_filtered"
   ]
  },
  {
   "cell_type": "markdown",
   "metadata": {},
   "source": [
    "### Replace missing data\n",
    "We replace all missing values with the value *-1*. We could analyze each feature and define for it the best *default* value (e.g. mode, median, 0, etc.). However, for the test purpose we decide to apply this trivial strategy."
   ]
  },
  {
   "cell_type": "code",
   "execution_count": 8,
   "metadata": {
    "collapsed": true
   },
   "outputs": [],
   "source": [
    "df_add_category = df_filtered.apply(lambda s: s.cat.add_categories('-1'))"
   ]
  },
  {
   "cell_type": "code",
   "execution_count": 9,
   "metadata": {
    "collapsed": false,
    "scrolled": true
   },
   "outputs": [],
   "source": [
    "#modes = df.mode().iloc[0,:]\n",
    "final_features = df_add_category.fillna('-1') #modes"
   ]
  },
  {
   "cell_type": "code",
   "execution_count": 10,
   "metadata": {
    "collapsed": true
   },
   "outputs": [],
   "source": [
    "df_add_category.DIABETE3 = df_add_category.DIABETE3.cat.remove_categories('-1')"
   ]
  },
  {
   "cell_type": "markdown",
   "metadata": {},
   "source": [
    "## Bivariate analysis\n",
    "In the following we compute the bivariate analysis between the target variable *DIABETE3* and the other features. In particular, we apply the *Spearman's Rank-Order Correlation* algorithm to compute the correlation between the target variable and all the others, and to select the most correlated features with respect to the target. The best features will be used for learning the classification model. \n",
    "\n",
    "The Spearman's rank-order correlation is the nonparametric version of the Pearson product-moment correlation. Spearman's correlation coefficient, measures the strength and direction of association between two ranked variables. For using this correlation algorithm we have to assume that the input variables are ordinal. Several measures of association exist in the literature for categorical variables(e.g. [Goodman and Kruskal's lambda](https://en.wikipedia.org/wiki/Goodman_and_Kruskal%27s_lambda), [Cramér's V](https://en.wikipedia.org/wiki/Cramér%27s_V), [Chi-Square Test of Independence](https://onlinecourses.science.psu.edu/stat500/node/56), etc.). However, in my knowledge, do not exist any python implementation publically available. How you can see I have implemented the method *chi_square_of_df_cols* to compute the chi-square test of independency, but it doesn't perform on the input dataset.  \n",
    "\n",
    "Considering what we said before, for the purpose of the test we select only feature having a positive Spearman correlation score. \n",
    "\n",
    "Note that the extracted features could be correlated among them. In general, it could be better to choose a set of features which are as much correlate as possible with the target vaiable and orthogonal among them. This can be obtained for example applying algorithms such as PCA o SVD which return both a new feature space and the most important and orthogonal features.\n",
    "\n",
    "Goal of this Bivariate Analysys task is to extract a feature set that will be used by the classification algorithms, in the way to increase their perfomances (in terms of computational time and results quality).\n"
   ]
  },
  {
   "cell_type": "code",
   "execution_count": 11,
   "metadata": {
    "collapsed": true
   },
   "outputs": [],
   "source": [
    "import pandas as pd\n",
    "import scipy.stats as scs\n",
    "\n",
    "\n",
    "def categories(series):\n",
    "    return range(int(series.min()), int(series.max()) + 1)\n",
    "\n",
    "\n",
    "def chi_square_of_df_cols(df, col1, col2):\n",
    "    df_col1, df_col2 = df[col1], df[col2]\n",
    "\n",
    "    result = [[sum((df_col1 == cat1) & (df_col2 == cat2))\n",
    "               for cat2 in categories(df_col2)]\n",
    "              for cat1 in categories(df_col1)]\n",
    "\n",
    "    return scs.chi2_contingency(result)"
   ]
  },
  {
   "cell_type": "code",
   "execution_count": 12,
   "metadata": {
    "collapsed": false
   },
   "outputs": [],
   "source": [
    "final_features_numeric = final_features.apply(lambda c: c.astype('int'))"
   ]
  },
  {
   "cell_type": "code",
   "execution_count": 13,
   "metadata": {
    "collapsed": false
   },
   "outputs": [],
   "source": [
    "#compute correlation\n",
    "#correlation_cleaned = final_features.corr(method='spearman')\n",
    "correlation_cleaned = final_features_numeric.corr(method='spearman')"
   ]
  },
  {
   "cell_type": "code",
   "execution_count": 14,
   "metadata": {
    "collapsed": true
   },
   "outputs": [],
   "source": [
    "cleaned_sorted_features = correlation_cleaned.DIABETE3.sort_values(ascending=False)"
   ]
  },
  {
   "cell_type": "code",
   "execution_count": 15,
   "metadata": {
    "collapsed": false
   },
   "outputs": [],
   "source": [
    "cleaned_selected_features = cleaned_sorted_features[cleaned_sorted_features >= 0]"
   ]
  },
  {
   "cell_type": "code",
   "execution_count": 16,
   "metadata": {
    "collapsed": false
   },
   "outputs": [
    {
     "name": "stdout",
     "output_type": "stream",
     "text": [
      "FEATURE    %CORRELATION\n"
     ]
    },
    {
     "data": {
      "text/plain": [
       "DIABETE3    1.000000\n",
       "BPHIGH4     0.271867\n",
       "DIFFWALK    0.225912\n",
       "USEEQUIP    0.190007\n",
       "_MICHD      0.182062\n",
       "Name: DIABETE3, dtype: float64"
      ]
     },
     "execution_count": 16,
     "metadata": {},
     "output_type": "execute_result"
    }
   ],
   "source": [
    "print(\"FEATURE    %CORRELATION\")\n",
    "cleaned_selected_features.head()"
   ]
  },
  {
   "cell_type": "markdown",
   "metadata": {},
   "source": [
    "## Visualize the distribution of most correlated features with the target\n",
    "\n",
    "In the following we show the distribution of the most k=4 correlate features with the target variable:\n",
    "* BPHIGH4: Have you EVER been told by a doctor, nurse or other health professional that you have high blood pressure? (1: Yes, 3: No);\n",
    "* DIFFWALK: Do you have serious difficulty walking or climbing stairs? (1:Yes, 2:No)\n",
    "* USEEQUIP: Do you now have any health problem that requires you to use special equipment, such as a cane, a wheelchair, a special bed, or a special telephone? (1: Yes, 2: No)\n",
    "* _MICHD: Respondents that have ever reported having coronary heart disease (CHD) or myocardial infarction (MI) (1:Yes, 2:No)\n",
    "\n",
    "There is not a high correlation (i.e. >80%) between the target variable and the features set."
   ]
  },
  {
   "cell_type": "code",
   "execution_count": 20,
   "metadata": {
    "collapsed": false
   },
   "outputs": [
    {
     "data": {
      "image/png": "[encoded data removed]",
      "text/plain": [
       "<matplotlib.figure.Figure at 0x1104e89e8>"
      ]
     },
     "metadata": {},
     "output_type": "display_data"
    },
    {
     "data": {
      "image/png": "[encoded data removed]",
      "text/plain": [
       "<matplotlib.figure.Figure at 0x119634f60>"
      ]
     },
     "metadata": {},
     "output_type": "display_data"
    },
    {
     "data": {
      "image/png": "[encoded data removed]",
      "text/plain": [
       "<matplotlib.figure.Figure at 0x117d93f60>"
      ]
     },
     "metadata": {},
     "output_type": "display_data"
    },
    {
     "data": {
      "image/png": "[encoded data removed]",
      "text/plain": [
       "<matplotlib.figure.Figure at 0x1196dc710>"
      ]
     },
     "metadata": {},
     "output_type": "display_data"
    }
   ],
   "source": [
    "for i in cleaned_selected_features[1:5].index:\n",
    "    final_features_numeric.hist(column=i, by=\"DIABETE3\")  "
   ]
  },
  {
   "cell_type": "markdown",
   "metadata": {},
   "source": [
    "## Data Storage\n",
    "\n",
    "We store the pre-processed dataset for further analysis"
   ]
  },
  {
   "cell_type": "code",
   "execution_count": 18,
   "metadata": {
    "collapsed": false
   },
   "outputs": [],
   "source": [
    "to_store_df = final_features[cleaned_selected_features.index]"
   ]
  },
  {
   "cell_type": "code",
   "execution_count": 19,
   "metadata": {
    "collapsed": true
   },
   "outputs": [],
   "source": [
    "to_store_df.to_pickle(\"unbalanced_final_dataset.pkl\")"
   ]
  }
 ],
 "metadata": {
  "anaconda-cloud": {},
  "kernelspec": {
   "display_name": "Python [conda env:deeplearning]",
   "language": "python",
   "name": "conda-env-deeplearning-py"
  },
  "language_info": {
   "codemirror_mode": {
    "name": "ipython",
    "version": 3
   },
   "file_extension": ".py",
   "mimetype": "text/x-python",
   "name": "python",
   "nbconvert_exporter": "python",
   "pygments_lexer": "ipython3",
   "version": "3.5.2"
  }
 },
 "nbformat": 4,
 "nbformat_minor": 1
}
